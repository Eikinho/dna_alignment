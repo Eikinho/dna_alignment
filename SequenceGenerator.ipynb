{
 "cells": [
  {
   "cell_type": "markdown",
   "metadata": {},
   "source": [
    "### Projeto - Super Computação\n",
    "\n",
    "#### Eiki Luis Yamashiro |  7 - semestre | Engenharia de Computação  | Insper"
   ]
  },
  {
   "cell_type": "markdown",
   "metadata": {},
   "source": [
    "#### Import das Bibliotecas"
   ]
  },
  {
   "cell_type": "code",
   "execution_count": 55,
   "metadata": {},
   "outputs": [],
   "source": [
    "import random\n",
    "import subprocess\n",
    "import time \n",
    "import numpy as np\n",
    "import matplotlib.pyplot as plt\n",
    "plt.style.use(\"ggplot\")"
   ]
  },
  {
   "cell_type": "markdown",
   "metadata": {},
   "source": [
    "#### Define de Constantes"
   ]
  },
  {
   "cell_type": "code",
   "execution_count": 48,
   "metadata": {},
   "outputs": [],
   "source": [
    "START = 1\n",
    "END = 100\n",
    "INTERVAL = 10"
   ]
  },
  {
   "cell_type": "markdown",
   "metadata": {},
   "source": [
    "#### Gerando os Arquivos de Entrada"
   ]
  },
  {
   "cell_type": "markdown",
   "metadata": {},
   "source": [
    "Dado o objetivo de comparar os dois algoritmos, vamos gerar entradas com diferentes tamanhos. A função abaixo utiliza a função do numppy arange para criar um intervalo de START até END com um passo de INTERVAL. Assim, através de um laço for, vamos criar um arquivo dna.seq com o tamanho correspondente ao item do arange da atual iteração."
   ]
  },
  {
   "cell_type": "code",
   "execution_count": 56,
   "metadata": {},
   "outputs": [
    {
     "name": "stdout",
     "output_type": "stream",
     "text": [
      "Quantidade de arquivos gerados: 11\n"
     ]
    }
   ],
   "source": [
    "def generate_sequency(start=1, end=200, interval=10):\n",
    "    index = 1\n",
    "    \n",
    "    for e in np.arange(start, end, interval):\n",
    "        \n",
    "        n = e\n",
    "        m = e+1\n",
    "\n",
    "        file = f'inputs/dna{index}.seq'\n",
    "        f = open(file, 'w')\n",
    "        seq=[str(n)+'\\n',\n",
    "             str(m)+'\\n',\n",
    "             ''.join(random.choices(['A','T','C','G','-'],k=n))+'\\n',\n",
    "             ''.join(random.choices(['A','T','C','G','-'],k=m))]\n",
    "        f.writelines(seq)\n",
    "        f.close()\n",
    "        index += 1\n",
    "        \n",
    "    return index\n",
    "\n",
    "inputs_num = generate_sequency(START, END, INTERVAL)\n",
    "\n",
    "print(f\"Quantidade de arquivos gerados: {inputs_num}\")"
   ]
  },
  {
   "cell_type": "markdown",
   "metadata": {},
   "source": [
    "#### Rodando os Exe com os Inputs"
   ]
  },
  {
   "cell_type": "markdown",
   "metadata": {},
   "source": [
    "Abaixo é definida uma função que permite com que se obtenha a saída do executável e o tempo de execução para uma determinada entrada."
   ]
  },
  {
   "cell_type": "code",
   "execution_count": 3,
   "metadata": {},
   "outputs": [],
   "source": [
    "def roda_com_entrada(executavel, arquivo_in):\n",
    "    with open(f'inputs/{arquivo_in}') as f:\n",
    "        start = time.perf_counter()\n",
    "        proc = subprocess.run([f'./compare/{executavel}'], input=f.read(), text=True, capture_output=True)\n",
    "        end = time.perf_counter()\n",
    "    \n",
    "    f.close()\n",
    "    return (proc.stdout, end-start)"
   ]
  },
  {
   "cell_type": "markdown",
   "metadata": {},
   "source": [
    "Com o intuito de compararmos os resultados, vamos guardar os tempos de execução para cada entrada gerada anteriormente."
   ]
  },
  {
   "cell_type": "code",
   "execution_count": 42,
   "metadata": {},
   "outputs": [],
   "source": [
    "local_random = []\n",
    "smith_waterman = []\n",
    "\n",
    "for i in range(1, inputs_num):\n",
    "    smith_waterman.append(roda_com_entrada(\"smith_waterman\", f\"dna{i}.seq\")[1])\n",
    "    local_random.append(roda_com_entrada(\"local_random\", f\"dna{i}.seq\")[1])"
   ]
  },
  {
   "cell_type": "markdown",
   "metadata": {},
   "source": [
    "#### Comparando os dois Algoritmos"
   ]
  },
  {
   "cell_type": "markdown",
   "metadata": {},
   "source": [
    "Com o tempo de execução salvo para cada entrada gerada, podemos plotar um gráfico para comparar o tamanho da sequência e o tempo de execução. Vale lembrar que os dois algoritmos aceitam sequências de diferentes tamanhos, porém para facilitar a análise consideramos sequências de tamanho i e i+1. Assim quando o Input Size do gráfico for 1, significa que a entrada foi duas sequências de tamanho 1 e 2. Quando o Input Size do gráfico for 10, significa que a entrada foi duas sequências de tamanho 10 e 11. E assim por diante."
   ]
  },
  {
   "cell_type": "code",
   "execution_count": 54,
   "metadata": {},
   "outputs": [
    {
     "data": {
      "image/png": "[encoded data removed]",
      "text/plain": [
       "<Figure size 864x432 with 1 Axes>"
      ]
     },
     "metadata": {},
     "output_type": "display_data"
    }
   ],
   "source": [
    "plt.figure(figsize=(12,6))\n",
    "plt.title(\"Smith Waterman versus Local Random\")\n",
    "plt.plot(np.arange(START, END, INTERVAL), smith_waterman, label = \"smith-waterman\")\n",
    "plt.plot(np.arange(START, END, INTERVAL), local_random, label = \"local-random\")\n",
    "plt.legend()\n",
    "plt.xlabel(\"Input Size\")\n",
    "plt.ylabel(\"Time (s)\")\n",
    "plt.show()"
   ]
  }
 ],
 "metadata": {
  "kernelspec": {
   "display_name": "Python 3",
   "language": "python",
   "name": "python3"
  },
  "language_info": {
   "codemirror_mode": {
    "name": "ipython",
    "version": 3
   },
   "file_extension": ".py",
   "mimetype": "text/x-python",
   "name": "python",
   "nbconvert_exporter": "python",
   "pygments_lexer": "ipython3",
   "version": "3.8.10"
  }
 },
 "nbformat": 4,
 "nbformat_minor": 4
}
